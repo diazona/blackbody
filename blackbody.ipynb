{
 "cells": [
  {
   "cell_type": "code",
   "execution_count": 46,
   "metadata": {
    "collapsed": true
   },
   "outputs": [],
   "source": [
    "import bisect\n",
    "import itertools as it\n",
    "import math\n",
    "import matplotlib.pyplot as plt\n",
    "import numpy as np\n",
    "import numpy.linalg as npla\n",
    "import random\n",
    "import sys\n",
    "%matplotlib inline"
   ]
  },
  {
   "cell_type": "markdown",
   "metadata": {},
   "source": [
    "Define the transition probabilities"
   ]
  },
  {
   "cell_type": "code",
   "execution_count": 2,
   "metadata": {
    "collapsed": true
   },
   "outputs": [],
   "source": [
    "weights = np.array([0, 0.01, 0.0001])\n",
    "weights[0] = 1 - weights.sum()\n",
    "# weights now has the values [0.9899, 0.01, 0.0001] which are the probabilities"
   ]
  },
  {
   "cell_type": "markdown",
   "metadata": {},
   "source": [
    "This is a class that randomly chooses one of a set of elements with specified weights."
   ]
  },
  {
   "cell_type": "code",
   "execution_count": 3,
   "metadata": {
    "collapsed": true
   },
   "outputs": [],
   "source": [
    "# adapted from http://stackoverflow.com/a/4322940/56541\n",
    "class random_chooser(object):\n",
    "    '''Implements a weighted random choice, one where the probability\n",
    "    distribution of the choices is not uniform. The probability of choosing\n",
    "    a particular element is proportional to the weight associated with\n",
    "    that element; weights are provided along with the elements, in the\n",
    "    class constructor.'''\n",
    "    def __init__(self, choices):\n",
    "        '''Constructs an object to randomly choose from the given options.\n",
    "\n",
    "        The argument can be a dict in which the keys are the choices and\n",
    "        the values are the associated weights, or it can be a list-like\n",
    "        object of length N, in which case the choices will be 0,1,...,N-1\n",
    "        and the weights will be the elements of the list. In either case\n",
    "        the weights must be numeric.'''\n",
    "        if len(choices) == 1:\n",
    "            if isinstance(choices, dict):\n",
    "                self.choose = lambda: list(choices.values())[0]\n",
    "            else:\n",
    "                self.choose = lambda: 0\n",
    "        if isinstance(choices, dict):\n",
    "            weight_iter = choices.values()\n",
    "            value_iter = choices.keys()\n",
    "        else:\n",
    "            weight_iter = iter(choices)\n",
    "            value_iter = range(len(choices))\n",
    "        self.cumulative_weights = list(it.accumulate(weight_iter))\n",
    "        self.values = list(value_iter)\n",
    "    def choose(self):\n",
    "        '''Returns an element randomly chosen according to the probabilities\n",
    "        provided in the constructor.'''\n",
    "        x = random.random() * self.cumulative_weights[-1]\n",
    "        i = bisect.bisect(self.cumulative_weights, x)\n",
    "        return self.values[i]\n",
    "    def __len__(self):\n",
    "        return len(self.values)\n",
    "\n",
    "def test_random_chooser():\n",
    "    choices = random_chooser({0: 10, 1: 45, 2: 25, 3: 20})\n",
    "    results = [0] * len(choices)\n",
    "    for n in range(100000):\n",
    "        results[choices.choose()] += 1\n",
    "    print(results)"
   ]
  },
  {
   "cell_type": "markdown",
   "metadata": {},
   "source": [
    "The test should return something close to `[10000, 45000, 25000, 20000]`."
   ]
  },
  {
   "cell_type": "code",
   "execution_count": 4,
   "metadata": {
    "collapsed": false
   },
   "outputs": [
    {
     "name": "stdout",
     "output_type": "stream",
     "text": [
      "[10004, 45247, 24969, 19780]\n"
     ]
    }
   ],
   "source": [
    "test_random_chooser()"
   ]
  },
  {
   "cell_type": "markdown",
   "metadata": {},
   "source": [
    "# Monte Carlo"
   ]
  },
  {
   "cell_type": "markdown",
   "metadata": {},
   "source": [
    "The Monte Carlo simulation starts with a state representing the frequency of a photon. Instead of a vector as in Chad's code, my implementation represents the frequency by an integer. For the three-frequency simple case, 0 is the main frequency, 1 is the medium frequency, and 2 is the low frequency.\n",
    "\n",
    "At each step, the code makes the following choices:\n",
    "\n",
    "1. A photon in state $\\lvert i\\rangle$ can be absorbed with probability $P_i$, or not absorbed with probability $1 - P_i$.\n",
    "2. If it was absorbed, it will be reemitted into state $\\lvert j\\rangle$ with probability $P_{ji}$."
   ]
  },
  {
   "cell_type": "code",
   "execution_count": 10,
   "metadata": {
    "collapsed": true
   },
   "outputs": [],
   "source": [
    "def monte_carlo(state, absorb_weights, emit_weights):\n",
    "    '''Create a generator to run the Monte Carlo simulation.\n",
    "    \n",
    "    absorb_weights is an iterable of the probabilities P_i\n",
    "    emit_weights is a matrix (an iterable of lists) of the\n",
    "    probabilities P_ji, such that emit_weights[i][j] = P_ji'''\n",
    "    absorb_chooser = [random_chooser({True: w, False: 1-w}) for w in absorb_weights]\n",
    "    emit_chooser = [random_chooser(w) for w in emit_weights]\n",
    "    while True:\n",
    "        if absorb_chooser[state].choose():\n",
    "            state = emit_chooser[state].choose()\n",
    "        yield state"
   ]
  },
  {
   "cell_type": "code",
   "execution_count": 22,
   "metadata": {
    "collapsed": true
   },
   "outputs": [],
   "source": [
    "def compute_with_monte_carlo(initial_freq, steps, absorb_weights, emit_weights, iterations=10000):\n",
    "    total = np.zeros(3)\n",
    "    for n in range(iterations):\n",
    "        for s in it.islice(monte_carlo(initial_freq, absorb_weights, emit_weights), steps):\n",
    "            pass\n",
    "        total[s] += 1\n",
    "    return total/total.sum()"
   ]
  },
  {
   "cell_type": "markdown",
   "metadata": {},
   "source": [
    "# Transition matrix "
   ]
  },
  {
   "cell_type": "markdown",
   "metadata": {},
   "source": [
    "The transition matrix method calculates the transition probabilities instead of simulating individual absorptions and emissions. In this case, the state is a NumPy array in which element `i` is the probability of a photon having frequency `f_i`. For the three-frequency simple case, a photon at the main frequency is represented by the state vector `[1,0,0]`, a photon at the medium frequency is represented by `[0,1,0]`, and one at the low frequency by `[0,0,1]`.\n",
    "\n",
    "Each absorption/emission step is represented by the application of a transition matrix, which is computed as\n",
    "$$\\begin{equation}\n",
    "T = \\underbrace{\\begin{pmatrix}\n",
    "P_{00} & P_{01} & \\cdots \\\\\n",
    "P_{10} & P_{11} & \\cdots \\\\\n",
    "\\vdots & \\vdots & \\ddots\n",
    "\\end{pmatrix}}_\\text{emit}\n",
    "\\underbrace{\\begin{pmatrix}\n",
    "P_0 & 0 & \\cdots \\\\\n",
    "0 & P_1 & \\cdots \\\\\n",
    "\\vdots & \\vdots & \\ddots\n",
    "\\end{pmatrix}}_\\text{absorb}\n",
    "+\n",
    "\\underbrace{\\left[I - \\begin{pmatrix}\n",
    "P_0 & 0 & \\cdots \\\\\n",
    "0 & P_1 & \\cdots \\\\\n",
    "\\vdots & \\vdots & \\ddots\n",
    "\\end{pmatrix}\\right]}_\\text{not absorbed}\n",
    "\\end{equation}$$"
   ]
  },
  {
   "cell_type": "code",
   "execution_count": 12,
   "metadata": {
    "collapsed": true
   },
   "outputs": [],
   "source": [
    "def transition_matrix(absorb_weights, emit_weights):\n",
    "    '''Create the transition matrix that represents one step.\n",
    "    \n",
    "    absorb_weights is an iterable of the probabilities P_i\n",
    "    emit_weights is a matrix of the probabilities P_ji,\n",
    "    such that emit_weights[i][j] = P_ji'''\n",
    "    emit_matrix = emit_weights.T\n",
    "    absorb_matrix = np.diag(absorb_weights)\n",
    "    identity = np.identity(len(absorb_weights))\n",
    "    return emit_matrix.dot(absorb_matrix) + (identity - absorb_matrix)"
   ]
  },
  {
   "cell_type": "code",
   "execution_count": 23,
   "metadata": {
    "collapsed": true
   },
   "outputs": [],
   "source": [
    "def compute_with_transition_matrix(initial_freq, steps, absorb_weights, emit_weights):\n",
    "    initial_state = np.zeros(len(absorb_weights))\n",
    "    initial_state[initial_freq] = 1\n",
    "    full_transition_matrix = npla.matrix_power(transition_matrix(absorb_weights, emit_weights), steps)\n",
    "    return full_transition_matrix.dot(np.array([1,0,0]))"
   ]
  },
  {
   "cell_type": "markdown",
   "metadata": {},
   "source": [
    "#Test data "
   ]
  },
  {
   "cell_type": "markdown",
   "metadata": {},
   "source": [
    "This reproduces the first plot in the blog post"
   ]
  },
  {
   "cell_type": "code",
   "execution_count": 54,
   "metadata": {
    "collapsed": true
   },
   "outputs": [],
   "source": [
    "weights = np.array([0, 0.01, 0.0001])\n",
    "weights[0] = 1 - weights.sum()\n",
    "# weights now has the values [0.9899, 0.01, 0.0001] which are the probabilities\n",
    "\n",
    "absorb_weights = np.array([\n",
    " # probability of absorbing a photon in state 0\n",
    " 1,\n",
    " # probability of absorbing a photon in state 1\n",
    " weights[1],\n",
    " # probability of absorbing a photon in state 2\n",
    " weights[2]\n",
    "])\n",
    "emit_weights = np.array([\n",
    " # probabilities of emitting a photon from state 0 back to...\n",
    " weights[[\n",
    "  0, # state 0 (P_00)\n",
    "  1, # state 1 (P_10)\n",
    "  2  # state 2 (P_20)\n",
    " ]],\n",
    " # probabilities of emitting a photon from state 1 back to...\n",
    " weights[[\n",
    "  1, # state 0 (P_01)\n",
    "  0, # state 1 (P_11)\n",
    "  2  # state 2 (P_21)\n",
    " ]],\n",
    " # probabilities of emitting a photon from state 2 back to...\n",
    " weights[[\n",
    "  2, # state 0 (P_02)\n",
    "  1, # state 1 (P_12)\n",
    "  0  # state 2 (P_22)\n",
    " ]]\n",
    "])"
   ]
  },
  {
   "cell_type": "code",
   "execution_count": 55,
   "metadata": {
    "collapsed": false
   },
   "outputs": [
    {
     "name": "stdout",
     "output_type": "stream",
     "text": [
      "[ 0.3658  0.6271  0.0071]\n",
      "[ 0.36497205  0.62866848  0.00635947]\n"
     ]
    }
   ],
   "source": [
    "print(compute_with_monte_carlo(0, 100, absorb_weights, emit_weights))\n",
    "print(compute_with_transition_matrix(0, 100, absorb_weights, emit_weights))"
   ]
  },
  {
   "cell_type": "code",
   "execution_count": 56,
   "metadata": {
    "collapsed": false
   },
   "outputs": [],
   "source": [
    "counts = [int(pow(10,n/3.)) for n in range(30)]\n",
    "results = np.array([compute_with_transition_matrix(0, n, absorb_weights, emit_weights) for n in counts])"
   ]
  },
  {
   "cell_type": "code",
   "execution_count": 57,
   "metadata": {
    "collapsed": false
   },
   "outputs": [
    {
     "data": {
      "text/plain": [
       "[<matplotlib.lines.Line2D at 0x105f6ca90>,\n",
       " <matplotlib.lines.Line2D at 0x105ff7b00>,\n",
       " <matplotlib.lines.Line2D at 0x105ff7c88>]"
      ]
     },
     "execution_count": 57,
     "metadata": {},
     "output_type": "execute_result"
    },
    {
     "data": {
      "image/png": "[encoded data removed]",
      "text/plain": [
       "<matplotlib.figure.Figure at 0x105b842e8>"
      ]
     },
     "metadata": {},
     "output_type": "display_data"
    }
   ],
   "source": [
    "plt.loglog(counts, results, 'o-')"
   ]
  },
  {
   "cell_type": "markdown",
   "metadata": {},
   "source": [
    "And the second plot"
   ]
  },
  {
   "cell_type": "code",
   "execution_count": 58,
   "metadata": {
    "collapsed": true
   },
   "outputs": [],
   "source": [
    "absorb_weights = np.array([\n",
    " # probability of absorbing a photon in state 0\n",
    " 1,\n",
    " # probability of absorbing a photon in state 1\n",
    " weights[1],\n",
    " # probability of absorbing a photon in state 2\n",
    " weights[2]\n",
    "])\n",
    "emit_weights = np.array([\n",
    " # probabilities of emitting a photon from state 0 back to...\n",
    " weights[[\n",
    "  0, # state 0 (P_00)\n",
    "  1, # state 1 (P_10)\n",
    "  2  # state 2 (P_20)\n",
    " ]],\n",
    " # probabilities of emitting a photon from state 1 back to...\n",
    " weights[[\n",
    "  0, # state 0 (P_01)\n",
    "  1, # state 1 (P_11)\n",
    "  2  # state 2 (P_21)\n",
    " ]],\n",
    " # probabilities of emitting a photon from state 2 back to...\n",
    " weights[[\n",
    "  0, # state 0 (P_02)\n",
    "  1, # state 1 (P_12)\n",
    "  2  # state 2 (P_22)\n",
    " ]]\n",
    "])"
   ]
  },
  {
   "cell_type": "code",
   "execution_count": 59,
   "metadata": {
    "collapsed": true
   },
   "outputs": [],
   "source": [
    "counts = [int(pow(10,n/3.)) for n in range(30)]\n",
    "results = np.array([compute_with_transition_matrix(0, n, absorb_weights, emit_weights) for n in counts])"
   ]
  },
  {
   "cell_type": "code",
   "execution_count": 60,
   "metadata": {
    "collapsed": false
   },
   "outputs": [
    {
     "data": {
      "text/plain": [
       "[<matplotlib.lines.Line2D at 0x10617ee80>,\n",
       " <matplotlib.lines.Line2D at 0x105d02208>,\n",
       " <matplotlib.lines.Line2D at 0x105d02390>]"
      ]
     },
     "execution_count": 60,
     "metadata": {},
     "output_type": "execute_result"
    },
    {
     "data": {
      "image/png": "[encoded data removed]",
      "text/plain": [
       "<matplotlib.figure.Figure at 0x105f95e48>"
      ]
     },
     "metadata": {},
     "output_type": "display_data"
    }
   ],
   "source": [
    "plt.loglog(counts, results, 'o-')"
   ]
  },
  {
   "cell_type": "code",
   "execution_count": null,
   "metadata": {
    "collapsed": true
   },
   "outputs": [],
   "source": []
  }
 ],
 "metadata": {
  "kernelspec": {
   "display_name": "Python 3",
   "language": "python",
   "name": "python3"
  },
  "language_info": {
   "codemirror_mode": {
    "name": "ipython",
    "version": 3
   },
   "file_extension": ".py",
   "mimetype": "text/x-python",
   "name": "python",
   "nbconvert_exporter": "python",
   "pygments_lexer": "ipython3",
   "version": "3.4.3"
  }
 },
 "nbformat": 4,
 "nbformat_minor": 0
}
