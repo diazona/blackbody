{
 "cells": [
  {
   "cell_type": "code",
   "execution_count": 1,
   "metadata": {
    "collapsed": false
   },
   "outputs": [],
   "source": [
    "import base64\n",
    "import bisect\n",
    "import itertools as it\n",
    "import math\n",
    "import matplotlib.pyplot as plt\n",
    "import matplotlib.animation as anim\n",
    "import more_itertools as mt\n",
    "import numpy as np\n",
    "import numpy.linalg as npla\n",
    "import random\n",
    "import seaborn as sns\n",
    "import scipy.integrate as sciint\n",
    "import sys\n",
    "from tempfile import NamedTemporaryFile\n",
    "%matplotlib inline"
   ]
  },
  {
   "cell_type": "markdown",
   "metadata": {},
   "source": [
    "A function to add a little padding around a plot"
   ]
  },
  {
   "cell_type": "code",
   "execution_count": 2,
   "metadata": {
    "collapsed": true
   },
   "outputs": [],
   "source": [
    "# from http://code.activestate.com/recipes/577916-fast-minmax-function/\n",
    "def minmax(data):\n",
    "    'Computes the minimum and maximum values in one-pass using only 1.5*len(data) comparisons'\n",
    "    i = iter(data)\n",
    "    try:\n",
    "        lo = hi = next(i)\n",
    "    except StopIteration:\n",
    "        raise ValueError('minmax() arg is an empty sequence')\n",
    "    for x, y in it.zip_longest(i, i, fillvalue=lo):\n",
    "        if x > y:\n",
    "            x, y = y, x\n",
    "        if x < lo:\n",
    "            lo = x\n",
    "        if y > hi:\n",
    "            hi = y\n",
    "    return lo, hi\n",
    "\n",
    "def set_plot_margin(margin=0, axis=None):\n",
    "    '''Adds some internal padding around a plot. margin is the amount\n",
    "    of padding to add, relative to the axis limits. It should be\n",
    "    a positive number, probably on the order of 0.1 if you want\n",
    "    reasonable results.'''\n",
    "    if axis is None:\n",
    "        axis = plt.gca()\n",
    "    minmax_gen = ((minmax(line.get_xdata()), minmax(line.get_ydata())) for line in axis.get_lines())\n",
    "    xminseq, xmaxseq, yminseq, ymaxseq = zip(*((xmin, xmax, ymin, ymax) for ((xmin, xmax), (ymin, ymax)) in minmax_gen))\n",
    "    xmin = min(xminseq)\n",
    "    xmax = max(xmaxseq)\n",
    "    ymin = min(yminseq)\n",
    "    ymax = max(ymaxseq)\n",
    "    if axis.get_xscale() == 'linear':\n",
    "        xpad = (xmax - xmin) * margin\n",
    "        plt.xlim((xmin - xpad, xmax + xpad))\n",
    "    else: # log\n",
    "        plt.xlim(xmin / (1 + margin), xmax * (1 + margin))\n",
    "    if axis.get_yscale() == 'linear':\n",
    "        ypad = (ymax - ymin) * margin\n",
    "        plt.ylim((ymin - ypad, ymax + ypad))\n",
    "    else: # log\n",
    "        plt.ylim(ymin / (1 + margin), ymax * (1 + margin))"
   ]
  },
  {
   "cell_type": "markdown",
   "metadata": {},
   "source": [
    "From [this post](http://jakevdp.github.io/blog/2013/05/12/embedding-matplotlib-animations/) as modified by [this one](http://yt-project.org/doc/cookbook/embedded_webm_animation.html), a function to embed an animation. It doesn't quite seem to work, but I'm leaving the code here anyway."
   ]
  },
  {
   "cell_type": "code",
   "execution_count": 3,
   "metadata": {
    "collapsed": false
   },
   "outputs": [],
   "source": [
    "video_tag = \"\"\"<video controls>\n",
    " <source src=\"data:video/x-{0};base64,{1}\" type=\"video/{0}\">\n",
    " Your browser does not support the video tag.\n",
    "</video>\"\"\"\n",
    "\n",
    "codec_extra_args = {\n",
    "    'webm': ['-vcodec', 'libvpx', '-pix_fmt', 'yuv420p'],\n",
    "    'mp4':  ['-vcodec', 'libx264']\n",
    "}\n",
    "\n",
    "def anim_to_html(animation, codec='webm'):\n",
    "    attr = '_encoded_video_{0}'.format(codec)\n",
    "    if not hasattr(animation, attr):\n",
    "#        with NamedTemporaryFile(suffix='.{0}'.format(codec)) as f:\n",
    "#            filename = f.name\n",
    "        filename = '/Users/diazona/tmp/test.webm'\n",
    "        print('writing video to ' + filename)\n",
    "        animation.save(filename, fps=10, extra_args=codec_extra_args[codec])\n",
    "        video = open(filename, \"rb\").read()\n",
    "        setattr(animation, attr, base64.b64encode(video))\n",
    "    return video_tag.format(codec, getattr(animation, attr))\n",
    "\n",
    "anim.Animation._repr_html_ = anim_to_html"
   ]
  },
  {
   "cell_type": "markdown",
   "metadata": {},
   "source": [
    "A class to randomly choose one of a set of elements with specified weights. You pass the set of choices $X_n$ and corresponding weights $w_n$ to the constructor, and use the `choose` method to randomly pick one of the objects. The probability of returning $X_n$ is\n",
    "$$P(X_n) = \\frac{w_n}{\\sum_n w_n}$$\n",
    "This class is used in the Monte Carlo method."
   ]
  },
  {
   "cell_type": "code",
   "execution_count": 4,
   "metadata": {
    "collapsed": true
   },
   "outputs": [],
   "source": [
    "# adapted from http://stackoverflow.com/a/4322940/56541\n",
    "class random_chooser(object):\n",
    "    '''Implements a weighted random choice, one where the probability\n",
    "    distribution of the choices is not uniform. The probability of choosing\n",
    "    a particular element is proportional to the weight associated with\n",
    "    that element; weights are provided along with the elements, in the\n",
    "    class constructor.'''\n",
    "    def __init__(self, choices):\n",
    "        '''Constructs an object to randomly choose from the given options.\n",
    "\n",
    "        The argument can be a dict in which the keys are the choices and\n",
    "        the values are the associated weights, or it can be a list-like\n",
    "        object of length N, in which case the choices will be 0,1,...,N-1\n",
    "        and the weights will be the elements of the list. In either case\n",
    "        the weights must be numeric.'''\n",
    "        if len(choices) == 1:\n",
    "            if isinstance(choices, dict):\n",
    "                self.choose = lambda: list(choices.values())[0]\n",
    "            else:\n",
    "                self.choose = lambda: 0\n",
    "        if isinstance(choices, dict):\n",
    "            weight_iter = choices.values()\n",
    "            value_iter = choices.keys()\n",
    "        else:\n",
    "            weight_iter = iter(choices)\n",
    "            value_iter = range(len(choices))\n",
    "        self.cumulative_weights = list(it.accumulate(weight_iter))\n",
    "        self.values = list(value_iter)\n",
    "    def choose(self):\n",
    "        '''Returns an element randomly chosen according to the probabilities\n",
    "        provided in the constructor.'''\n",
    "        x = random.random() * self.cumulative_weights[-1]\n",
    "        i = bisect.bisect(self.cumulative_weights, x)\n",
    "        return self.values[i]\n",
    "    def __len__(self):\n",
    "        return len(self.values)\n",
    "\n",
    "def test_random_chooser():\n",
    "    choices = random_chooser([10, 45, 0, 25, 20])\n",
    "    results = [0] * len(choices)\n",
    "    for n in range(100000):\n",
    "        results[choices.choose()] += 1\n",
    "    print(results)"
   ]
  },
  {
   "cell_type": "markdown",
   "metadata": {},
   "source": [
    "The test should return something close to `[10000, 45000, 0, 25000, 20000]`."
   ]
  },
  {
   "cell_type": "code",
   "execution_count": 4,
   "metadata": {
    "collapsed": false
   },
   "outputs": [
    {
     "name": "stdout",
     "output_type": "stream",
     "text": [
      "[9800, 45173, 0, 25115, 19912]\n"
     ]
    }
   ],
   "source": [
    "test_random_chooser()"
   ]
  },
  {
   "cell_type": "markdown",
   "metadata": {},
   "source": [
    "That's it for setup code."
   ]
  },
  {
   "cell_type": "markdown",
   "metadata": {},
   "source": [
    "# Photon scattering"
   ]
  },
  {
   "cell_type": "markdown",
   "metadata": {},
   "source": [
    "To recap from [the blog post](http://scienceblogs.com/principles/2015/05/26/crude-monte-carlo-simulation-of-light-bulb-physics/): the physical situation we're dealing with is an ensemble of identical physical systems, each with a certain set of spectral lines at frequencies $\\{\\omega_n\\}$. For example, atoms, so I'll call the physical systems atoms, although the argument should work for anything that absorbs and re-emits photons.\n",
    "\n",
    "When a photon with frequency profile $g(\\omega)$, normalized so that $\\int g(\\omega)\\,\\mathrm{d}\\omega = 1$, interacts with an atom, it has some probability, given by\n",
    "$$\\int P_\\text{abs}^{(j)}(\\omega)g(\\omega)\\,\\mathrm{d}\\omega$$\n",
    "of being absorbed and putting the atom into an internal state labeled by $(j)$.\n",
    "There can be multiple internal states, each with its own associated probability density $\\mathcal{P}_\\text{abs}^{(j)}(\\omega)$.\n",
    "The total probability of the photon being absorbed cannot exceed 1:\n",
    "$$\\sum_j \\int P_\\text{abs}^{(j)}(\\omega)g(\\omega)\\,\\mathrm{d}\\omega \\leq 1$$\n",
    "This has to hold for _all_ normalized frequency profiles $g(\\omega)$, which implies that\n",
    "$$\\sum_j P_\\text{abs}^{(j)}(\\omega) \\leq 1$$\n",
    "The argument can also be generalized to a continuous spectrum of internal states.\n",
    "\n",
    "If the photon is absorbed and places the atom in state $(j)$, it then has a probability $\\mathcal{P}_\\text{emit}^{(j)}(\\omega')\\,\\mathrm{d}\\omega'$ of being re-emitted in the frequency window $(\\omega',\\omega' + \\mathrm{d}\\omega')$.\n",
    "Note that energy conservation is not a requirement, since in the process of being absorbed and emitted, the photon exchanges energy with the atom and its surroundings.\n",
    "Conservation of probability in this case requires that\n",
    "$$\\int \\mathcal{P}_\\text{emit}^{(j)}(\\omega')\\,\\mathrm{d}\\omega' = 1$$\n",
    "or in other words, if a photon is absorbed, it _must_ be re-emitted at some frequency.\n",
    "We are basically assuming the lifetime of any excited state is negligible compared to the mean free time between scattering events.\n",
    "\n",
    "These probabilities can be combined into a single transition probability as follows:\n",
    "$$\\mathcal{T}(\\omega, \\omega')\\,\\mathrm{d}\\omega' = \\sum_j \\mathcal{P}_\\text{emit}^{(j)}(\\omega') P_\\text{abs}^{(j)}(\\omega)\\,\\mathrm{d}\\omega' + \\delta(\\omega - \\omega')\\biggl(1 - \\sum_j P_\\text{abs}^{(j)}(\\omega)\\biggr)\\mathrm{d}\\omega'\\tag{1}$$\n",
    "\n",
    "The conservation condition implies\n",
    "$$\\int \\mathcal{T}(\\omega, \\omega')\\,\\mathrm{d}\\omega' = 1$$\n",
    "\n",
    "Suppose we start with a large population of photons at frequency $\\omega$. We allow those photons to interact with some number of atoms, call it $N$. Our goal is to discover, through Monte Carlo simulation, how the photon spectrum changes with $N$. We expect to find that the result is a blackbody spectrum for large $N$."
   ]
  },
  {
   "cell_type": "markdown",
   "metadata": {},
   "source": [
    "## Discretization"
   ]
  },
  {
   "cell_type": "markdown",
   "metadata": {},
   "source": [
    "For the numerical implementation, we want to discretize the absorption and emission probabilities into matrices $P_{ji}^\\text{a}$ and $P_{kj}^\\text{e}$ respectively, and the transition probability into a matrix $T_{ki}$, which should satisfy\n",
    "$$T_{ki} = \\sum_j P_{kj}^\\text{e} P_{ji}^\\text{a} + \\delta_{ki}\\biggl(1 - \\sum_j P_{ji}^\\text{a}\\biggr)\\tag{2}$$\n",
    "It's essential to do the discretization correctly to maintain probability conservation.\n",
    "\n",
    "The discretization procedure we're going to use stems from the physical meaning we'd like to assign to the matrix elements of $T$ and the $P$'s.\n",
    "We set some upper cutoff $\\omega_M$ on the range of frequencies under consideration, and split that range into $M$ intervals\n",
    "$$\\Omega_i = (\\omega_{i}, \\omega_{i+1}),\\ i\\in\\{0,\\ldots,M-1\\}$$\n",
    "where $\\omega_0 = 0$.\n",
    "Then $P_{ji}^\\text{a}$ represents the probability that an incoming photon in $\\Omega_i$ is absorbed and excites the atom into internal state $j$.\n",
    "$P_{kj}^\\text{e}$ represents the conditional probability that, given that an absorption occurred into internal state $j$, the subsequent emission occurs in the frequency interval $\\Omega_k$.\n",
    "And $T_{ki}$ represents the probability that, if a photon with $\\omega \\in \\Omega_i$ goes into the interaction, the one that comes out has $\\omega \\in \\Omega_k$.\n",
    "\n",
    "Given these interpretations, the appropriate definitions are\n",
    "$$\\begin{align}\n",
    "P_{ji}^\\text{a}\n",
    "&= \\int \\frac{w_i(\\omega)}{\\omega_{i+1} - \\omega_{i}} P_\\text{abs}^{(j)}(\\omega)\\,\\mathrm{d}\\omega\\tag{3a} \\\\\n",
    "P_{kj}^\\text{e}\n",
    "&= \\int w_k(\\omega') \\mathcal{P}_\\text{emit}^{(j)}(\\omega')\\,\\mathrm{d}\\omega'\\tag{3b} \\\\\n",
    "T_{ki}\n",
    "&= \\int \\frac{w_i(\\omega)}{\\omega_{i+1} - \\omega_{i}} w_k(\\omega') \\mathcal{T}(\\omega, \\omega')\\,\\mathrm{d}\\omega\\,\\mathrm{d}\\omega'\\tag{3c}\n",
    "\\end{align}$$\n",
    "where $w_i(\\omega)$ is a rectangular window function that is equal to $1$ within frequency interval $i$, for $i\\in\\{0,\\ldots,M-1\\}$, and $0$ everywhere else, i.e.\n",
    "$$w_i(\\omega) = \\begin{cases}1,& \\omega_{i} \\leq \\omega < \\omega_{i+1} \\\\ 0,& \\text{otherwise}\\end{cases}$$\n",
    "Incidentally, the integration with the window functions amounts to averaging over initial states and summing over final states, as we do in quantum field theory.\n",
    "\n",
    "The following code implements equations (3a) and (3b)."
   ]
  },
  {
   "cell_type": "code",
   "execution_count": 5,
   "metadata": {
    "collapsed": true
   },
   "outputs": [],
   "source": [
    "def discretize_absorption(Pabs, frequencies, states, args=[]):\n",
    "    '''Converts a continuous function (callable) Pabs^(j)\n",
    "    into one column of matrix elements P^a_{ji}.\n",
    "    \n",
    "    The iterable of frequencies should have 0 as the first element.'''\n",
    "    return np.array([\n",
    "            [sciint.quad(Pabs, lower, upper, args=[state] + list(args))[0]/(upper - lower)\n",
    "            for (lower, upper) in mt.pairwise(frequencies)]\n",
    "            for state in states\n",
    "        ])\n",
    "def discretize_emission(Pemit, frequencies, states, args=[]):\n",
    "    '''Converts a continuous function (callable) Pemit^(j)\n",
    "    into one row of matrix elements P^e_{kj}.\n",
    "    \n",
    "    The iterable of frequencies should have 0 as the first element.'''\n",
    "    return np.array([\n",
    "            [sciint.quad(Pemit, lower, upper, args=[state] + list(args))[0]\n",
    "            for (lower, upper) in mt.pairwise(frequencies)]\n",
    "            for state in states\n",
    "        ]).T"
   ]
  },
  {
   "cell_type": "markdown",
   "metadata": {},
   "source": [
    "We can check that substituting equation (1) into (3c) reproduces equation (2):\n",
    "$$\\begin{align}\n",
    "T_{ki}\n",
    "&= \\int \\mathrm{d}\\omega\\,\\mathrm{d}\\omega'\\,\\frac{w_i(\\omega)}{\\omega_{i+1} - \\omega_{i}} w_k(\\omega') \\biggl[\\sum_j \\mathcal{P}_\\text{emit}^{(j)}(\\omega') P_\\text{abs}^{(j)}(\\omega) + \\delta(\\omega - \\omega')\\biggl(1 - \\sum_j P_\\text{abs}^{(j)}(\\omega)\\biggr)\\biggr] \\\\\n",
    "&= \\sum_j \\int \\mathrm{d}\\omega'\\,w_k(\\omega') \\mathcal{P}_\\text{emit}^{(j)}(\\omega') \\int \\mathrm{d}\\omega\\,\\frac{w_i(\\omega)}{\\omega_{i+1} - \\omega_{i}}  P_\\text{abs}^{(j)}(\\omega) + \\frac{1}{\\omega_{i+1} - \\omega_{i}} \\int \\mathrm{d}\\omega\\,\\underbrace{w_i(\\omega) w_k(\\omega)}_{\\delta_{ki} w_i(\\omega)}\\biggl(1 - \\sum_j P_\\text{abs}^{(j)}(\\omega)\\biggr) \\\\\n",
    "&= \\sum_j P_{kj}^\\text{e} P_{ji}^\\text{a} + \\delta_{ki} \\biggl(\\underbrace{\\int \\mathrm{d}\\omega\\,\\frac{w_i(\\omega)}{\\omega_{i+1} - \\omega_{i}}}_{1} - \\sum_j P_{ji}^\\text{a}\\biggr)\n",
    "\\end{align}$$\n",
    "\n",
    "Naively, we would think the probability conservation condition in the discretization will be\n",
    "$$\\sum_k P_{kj}^\\text{e} = 1$$\n",
    "but actually, combining this with equation (3b) shows that\n",
    "$$\\begin{align}\n",
    "\\sum_k P_{kj}^\\text{e}\n",
    "&= \\sum_k \\int w_k(\\omega') \\mathcal{P}_\\text{emit}^{(j)}(\\omega')\\,\\mathrm{d}\\omega' \\\\\n",
    "&= \\sum_k \\int_{\\omega_{k}}^{\\omega_{k+1}} \\mathcal{P}_\\text{emit}^{(j)}(\\omega')\\,\\mathrm{d}\\omega' \\\\\n",
    "&= \\int_{0}^{\\omega_M} \\mathcal{P}_\\text{emit}^{(j)}(\\omega')\\,\\mathrm{d}\\omega'\n",
    "\\end{align}$$\n",
    "because, remember, the upper cutoff of the highest frequency interval is $\\omega_M$.\n",
    "(Also recall $\\omega_0 = 0$.)\n",
    "So this discretization actually does _not_ conserve probability; each time the atom is excited into state $j$, we lose an amount of probability equal to\n",
    "$$\\int_{\\omega_M}^{\\infty} \\mathcal{P}_\\text{emit}^{(j)}(\\omega')\\,\\mathrm{d}\\omega'$$\n",
    "which corresponds to the probability that a photon is emitted above the cutoff frequency $\\omega_M$.\n",
    "\n",
    "The straightforward solution to this problem is to add on another frequency interval, $\\Omega_M = (\\omega_M, \\infty)$.\n",
    "This can be accomplished in code by simply passing `np.inf` as the highest frequency to `discretize_absorption` and `discretize_emission`.\n",
    "But the catch is that the absorption probability from this interval will be zero, because $\\omega_{M+1} - \\omega_M \\to \\infty$ in the denominator of equation (3a).\n",
    "Over many scatterings, the resulting transition matrix is going to \"suck\" photons up toward arbitrarily high frequencies.\n",
    "To compensate, we would have to somehow assign an absorption probability to the highest frequency, i.e. find some procedure for calculating meaningful nonzero values for $P^\\text{a}_{jM}$, but I don't yet know what would be a sensible way to do that."
   ]
  },
  {
   "cell_type": "markdown",
   "metadata": {},
   "source": [
    "Another possible solution is to add the missing probability in to the highest existing frequency interval, $\\Omega_{M-1}$.\n",
    "This is physically equivalent to replacing all photon transitions to frequencies greater than $\\omega_M$ with transitions to frequencies just under $\\omega_M$.\n",
    "Alternatively, we can think of it as extending the highest frequency interval out to infinity _for emission only_.\n",
    "All photons with $\\omega > \\omega_M$ are then absorbed into state $j$ with the same probability as an average photon with $\\omega \\in \\Omega_{M-1}$.\n",
    "\n",
    "This can be implemented in code by applying the following procedure to the output of `discretize_emission`:\n",
    "\n",
    "    emit_weights = discretize_emission(...)\n",
    "    emit_weights[-1] += 1 - emit_weights.sum(axis=0)"
   ]
  },
  {
   "cell_type": "markdown",
   "metadata": {},
   "source": [
    "And yet another easy solution is to redistribute the probability from the highest interval $\\Omega_{M}$ over all other intervals $\\Omega_{i},\\ i < M$ in proportion to their width, which physically corresponds to randomly reassigning the frequency of any photon $\\omega > \\Omega_M$ to some value less than $\\omega_M$.\n",
    "This procedure has the advantage of not causing a peak to build up in the highest frequency bin.\n",
    "It can be implemented as\n",
    "\n",
    "    emit_weights = discretize_emission(...)\n",
    "    emit_weights /= emit_weights.sum(axis=0)"
   ]
  },
  {
   "cell_type": "code",
   "execution_count": 6,
   "metadata": {
    "collapsed": true
   },
   "outputs": [],
   "source": [
    "def check_conservation_condition(emit_weights):\n",
    "    return np.all(np.isclose(emit_weights.sum(axis=0), 1))"
   ]
  },
  {
   "cell_type": "markdown",
   "metadata": {},
   "source": [
    "This discretization procedure can be generalized to any number of discrete frequency ranges. We hope to see the blackbody spectrum emerge as the number of frequencies becomes large."
   ]
  },
  {
   "cell_type": "markdown",
   "metadata": {},
   "source": [
    "## Outline "
   ]
  },
  {
   "cell_type": "markdown",
   "metadata": {},
   "source": [
    "From here we show two methods of calculating how the photon spectrum changes after many interactions: first the Monte Carlo method from the blog post, and then the transition matrix method (which is easier on the computer, and mathematically equivalent, but is a step removed from simulating the physical process)."
   ]
  },
  {
   "cell_type": "markdown",
   "metadata": {},
   "source": [
    "This snippet defines the transition probabilities used in Chad's original blog post as a NumPy array."
   ]
  },
  {
   "cell_type": "code",
   "execution_count": 7,
   "metadata": {
    "collapsed": true
   },
   "outputs": [],
   "source": [
    "weights = np.array([0, 0.01, 0.0001])\n",
    "weights[0] = 1 - weights.sum()\n",
    "# weights now has the values [0.9899, 0.01, 0.0001] which are the probabilities"
   ]
  },
  {
   "cell_type": "markdown",
   "metadata": {},
   "source": [
    "# Monte Carlo method"
   ]
  },
  {
   "cell_type": "markdown",
   "metadata": {},
   "source": [
    "The Monte Carlo simulation starts with a photon state (not to be confused with the atom's internal state) representing the frequency of a photon, or more precisely the frequency interval it lies in. Instead of a vector as in Chad's code, my implementation represents the photon state by an integer. For the three-frequency simple case, the main frequency is taken to lie within the interval $\\Omega_0$ and is thus represented by state 0, the medium frequency by 1, and the low frequency by state 2.\n",
    "\n",
    "Note that this maps _higher_ frequencies to smaller state numbers, unlike the derivations above which map _lower_ frequencies to smaller state numbers, but the formulas should still work.\n",
    "\n",
    "At each step, the code makes the following choices:\n",
    "\n",
    "1. A photon with frequency $\\omega \\in \\Omega_i$ ($i\\in\\{0,1,2\\}$) will be absorbed with probability $p_i$, or not absorbed with probability $1 - p_i$. If it is absorbed, it puts the atom into internal state $i$ - there is one internal state for each frequency window that a photon could arrive in. In other words, the absorption probability matrix $P_{ji}^\\text{a}$ is square and diagonal.\n",
    "$$P^\\text{a} = \\begin{pmatrix}p_0 & 0 & 0 \\\\ 0 & p_1 & 0 \\\\ 0 & 0 & p_2\\end{pmatrix}$$\n",
    "2. If the incoming photon was absorbed into state $j$, a photon with frequency $\\omega_k$ ($k\\in\\{0,1,2\\}$) will be emitted with probability $P_{kj}^\\text{e}$. In accordance with the probability conservation condition, these probabilities have to satisfy $\\sum_k P_{kj}^\\text{e} = 1$."
   ]
  },
  {
   "cell_type": "code",
   "execution_count": 8,
   "metadata": {
    "collapsed": false
   },
   "outputs": [],
   "source": [
    "def monte_carlo(state, absorb_weights, emit_weights):\n",
    "    '''Create a generator to run the Monte Carlo simulation.\n",
    "    \n",
    "    absorb_weights is a matrix of the absorption probabilities P^a,\n",
    "    such that absorb_weights[j,i] = P_ji^a\n",
    "    emit_weights is a matrix of the emission probabilities P^e\n",
    "    with the same indexing convention'''\n",
    "    absorb_chooser = [random_chooser(np.concatenate(([1-sum(w)], w))) for w in absorb_weights.T]\n",
    "    emit_chooser = [random_chooser(w) for w in emit_weights.T]\n",
    "    while True:\n",
    "        updated_state = absorb_chooser[state].choose() - 1\n",
    "        # updated_state == -1 indicates photon was not absorbed\n",
    "        if updated_state != -1:\n",
    "            state = emit_chooser[updated_state].choose()\n",
    "        # else ignore updated_state\n",
    "        yield state"
   ]
  },
  {
   "cell_type": "code",
   "execution_count": 9,
   "metadata": {
    "collapsed": true
   },
   "outputs": [],
   "source": [
    "def compute_with_monte_carlo(initial_freq_profile, steps, absorb_weights, emit_weights, iterations=10000):\n",
    "    total = np.zeros(emit_weights.shape[0])\n",
    "    initial_state_chooser = random_chooser(initial_freq_profile)\n",
    "    for n in range(iterations):\n",
    "        for s in it.islice(monte_carlo(initial_state_chooser.choose(), absorb_weights, emit_weights), steps):\n",
    "            pass\n",
    "        total[s] += 1\n",
    "    return total/total.sum()"
   ]
  },
  {
   "cell_type": "markdown",
   "metadata": {},
   "source": [
    "# Transition matrix method"
   ]
  },
  {
   "cell_type": "markdown",
   "metadata": {},
   "source": [
    "The transition matrix method calculates the transition probabilities directly, instead of simulating individual absorptions and emissions. In this case, the state is a NumPy array in which element `i` is the probability of a photon having frequency $\\in \\Omega_i$. For the three-frequency simple case, a photon at the main frequency is represented by the photon state vector `[1,0,0]`, a photon at the medium frequency is represented by `[0,1,0]`, and one at the low frequency by `[0,0,1]`.\n",
    "\n",
    "Each absorption/emission step is represented by the application of a transition matrix, which is computed from equation (2).\n",
    "As with the [Monte Carlo method](#Monte-Carlo-method), we assume there is one internal state for each frequency window, so the absorption matrix is square and diagonal."
   ]
  },
  {
   "cell_type": "code",
   "execution_count": 10,
   "metadata": {
    "collapsed": true
   },
   "outputs": [],
   "source": [
    "def transition_matrix(absorb_weights, emit_weights):\n",
    "    '''Create the transition matrix that represents one step.\n",
    "    \n",
    "    absorb_weights is a matrix of the absorption probabilities P^a,\n",
    "    such that absorb_weights[j,i] = P_ji^a\n",
    "    emit_weights is a matrix of the emission probabilities P^e\n",
    "    with the same indexing convention'''\n",
    "    #                             sum_j P^e_{kj} * P^a_{ji}\n",
    "    # np.dot(absorb, emit)[k,i] = sum(emit[k,:] * absorb[:,i])\n",
    "    return np.dot(emit_weights, absorb_weights)              + np.diag(1 - absorb_weights.sum(axis=0))"
   ]
  },
  {
   "cell_type": "code",
   "execution_count": 11,
   "metadata": {
    "collapsed": true
   },
   "outputs": [],
   "source": [
    "def compute_with_transition_matrix(initial_freq_profile, steps, absorb_weights, emit_weights):\n",
    "    full_transition_matrix = npla.matrix_power(transition_matrix(absorb_weights, emit_weights), steps)\n",
    "    return full_transition_matrix.dot(initial_freq_profile)"
   ]
  },
  {
   "cell_type": "markdown",
   "metadata": {},
   "source": [
    "#Reproducing results from the blog post"
   ]
  },
  {
   "cell_type": "markdown",
   "metadata": {},
   "source": [
    "This simulates the three-level system from Chad's blog post. First, starting from the numbers in the `weights` array (defined above), we create the probabilities $P_{ji}^\\text{a}$ (in `absorb_weights`) and $P_{kj}^\\text{e}$ (in `emit_weights`). If `weights[i]` is represented by $w_i$, we have\n",
    "$$\\begin{align}\n",
    "P_{ji}^\\text{a} &= \\delta_{ji}w_i &\n",
    "P_{kj}^\\text{e} &= \\begin{cases}\n",
    " w_k, & j = 0 \\\\\n",
    " \\begin{cases}\n",
    "  w_1, & k = 0 \\\\\n",
    "  w_0, & k = 1 \\\\\n",
    "  w_2, & k = 2\n",
    " \\end{cases}, & j = 1\n",
    " \\\\\n",
    " \\begin{cases}\n",
    "  w_2, & k = 0 \\\\\n",
    "  w_1, & k = 1 \\\\\n",
    "  w_0, & k = 2\n",
    " \\end{cases}, & j = 2\n",
    "\\end{cases}\n",
    "\\end{align}$$\n",
    "or in matrix form,\n",
    "$$\\begin{align}\n",
    "P^\\text{a} &=\n",
    "\\begin{pmatrix}\n",
    " w_0 & 0 & 0 \\\\\n",
    " 0 & w_1 & 0 \\\\\n",
    " 0 & 0 & w_2\n",
    "\\end{pmatrix}\n",
    "&\n",
    "P^\\text{e} &=\n",
    "\\begin{pmatrix}\n",
    " w_0 & w_1 & w_2 \\\\\n",
    " w_1 & w_0 & w_2 \\\\\n",
    " w_2 & w_1 & w_0\n",
    "\\end{pmatrix}\n",
    "\\end{align}$$"
   ]
  },
  {
   "cell_type": "code",
   "execution_count": 12,
   "metadata": {
    "collapsed": false
   },
   "outputs": [],
   "source": [
    "absorb_weights = np.diag([\n",
    " # probability of absorbing a photon in state 0\n",
    " weights[0],\n",
    " # probability of absorbing a photon in state 1\n",
    " weights[1],\n",
    " # probability of absorbing a photon in state 2\n",
    " weights[2]\n",
    "])\n",
    "emit_weights = np.array([\n",
    " # probabilities of emitting a photon from state 0 back to...\n",
    " weights[[\n",
    "  0, # state 0 (P_00)\n",
    "  1, # state 1 (P_10)\n",
    "  2  # state 2 (P_20)\n",
    " ]],\n",
    " # probabilities of emitting a photon from state 1 back to...\n",
    " weights[[\n",
    "  1, # state 0 (P_01)\n",
    "  0, # state 1 (P_11)\n",
    "  2  # state 2 (P_21)\n",
    " ]],\n",
    " # probabilities of emitting a photon from state 2 back to...\n",
    " weights[[\n",
    "  2, # state 0 (P_02)\n",
    "  1, # state 1 (P_12)\n",
    "  0  # state 2 (P_22)\n",
    " ]]\n",
    "]).T\n",
    "# We transpose because emit_weights[k,j] should be the probability\n",
    "# of internal state j emitting a photon in frequency window k, but\n",
    "# the way we've defined it above (before the transpose), the first\n",
    "# index is the one that labels the internal state, i.e. j. The\n",
    "# transpose switches indices so that k is first, as needed."
   ]
  },
  {
   "cell_type": "code",
   "execution_count": 13,
   "metadata": {
    "collapsed": false
   },
   "outputs": [
    {
     "data": {
      "text/plain": [
       "True"
      ]
     },
     "execution_count": 13,
     "metadata": {},
     "output_type": "execute_result"
    }
   ],
   "source": [
    "check_conservation_condition(emit_weights)"
   ]
  },
  {
   "cell_type": "code",
   "execution_count": 14,
   "metadata": {
    "collapsed": false
   },
   "outputs": [
    {
     "data": {
      "text/plain": [
       "array([[  9.90002010e-01,   1.00000000e-04,   1.00000000e-08],\n",
       "       [  9.89900000e-03,   9.99899000e-01,   1.00000000e-06],\n",
       "       [  9.89900000e-05,   1.00000000e-06,   9.99998990e-01]])"
      ]
     },
     "execution_count": 14,
     "metadata": {},
     "output_type": "execute_result"
    }
   ],
   "source": [
    "transition_matrix(absorb_weights, emit_weights)"
   ]
  },
  {
   "cell_type": "code",
   "execution_count": 15,
   "metadata": {
    "collapsed": false
   },
   "outputs": [
    {
     "data": {
      "text/plain": [
       "True"
      ]
     },
     "execution_count": 15,
     "metadata": {},
     "output_type": "execute_result"
    }
   ],
   "source": [
    "check_conservation_condition(transition_matrix(absorb_weights, emit_weights))"
   ]
  },
  {
   "cell_type": "markdown",
   "metadata": {},
   "source": [
    "Now we crunch the numbers using these probabilities and $N = 100$ scatterings. First, several times with the Monte Carlo method, and then with the transition matrix method. The results should be similar."
   ]
  },
  {
   "cell_type": "code",
   "execution_count": 16,
   "metadata": {
    "collapsed": false
   },
   "outputs": [
    {
     "name": "stdout",
     "output_type": "stream",
     "text": [
      "[ 0.3699  0.6234  0.0067]\n",
      "[ 0.3809  0.6122  0.0069]\n",
      "[ 0.3748  0.6187  0.0065]\n",
      "[ 0.37    0.6248  0.0052]\n",
      "[ 0.36871471  0.6249634   0.00632189]\n"
     ]
    }
   ],
   "source": [
    "for i in range(4):\n",
    "    res = compute_with_monte_carlo([1,0,0], 100, absorb_weights, emit_weights)\n",
    "    print(res)\n",
    "print(compute_with_transition_matrix([1,0,0], 100, absorb_weights, emit_weights))"
   ]
  },
  {
   "cell_type": "markdown",
   "metadata": {},
   "source": [
    "Having checked that the two methods give the same results, we use the transition matrix method to find the probabilities for various numbers of scatterings $N$, up to $N = 10^{10}$.\n",
    "\n",
    "`counts` is an array of values of $N$, and `results` is an array of the corresponding occupation probabilities. In other words, `results[N][i]` gives the probabilitity of the photon having frequency $\\omega_i$ after undergoing `N` scatterings. (Note that its initial frequency was $\\omega_0$, as specified by the first argument to `compute_with_transition_matrix`.)"
   ]
  },
  {
   "cell_type": "code",
   "execution_count": 17,
   "metadata": {
    "collapsed": false
   },
   "outputs": [],
   "source": [
    "counts = [int(pow(10,n/3.)) for n in range(30)]\n",
    "results = np.array([compute_with_transition_matrix([1,0,0], n, absorb_weights, emit_weights) for n in counts])"
   ]
  },
  {
   "cell_type": "code",
   "execution_count": 20,
   "metadata": {
    "collapsed": false
   },
   "outputs": [
    {
     "data": {
      "image/png": "[encoded data removed]",
      "text/plain": [
       "<matplotlib.figure.Figure at 0x10d05ef98>"
      ]
     },
     "metadata": {},
     "output_type": "display_data"
    }
   ],
   "source": [
    "plt.loglog(counts, results, 'o-')\n",
    "set_plot_margin(0.1)"
   ]
  },
  {
   "cell_type": "markdown",
   "metadata": {},
   "source": [
    "We can also create a sequence of plots showing the evolution of the spectrum with $N$."
   ]
  },
  {
   "cell_type": "code",
   "execution_count": 21,
   "metadata": {
    "collapsed": false
   },
   "outputs": [],
   "source": [
    "# dummy values for the frequencies\n",
    "frequencies = [20, 15, 10]"
   ]
  },
  {
   "cell_type": "code",
   "execution_count": 22,
   "metadata": {
    "collapsed": false
   },
   "outputs": [
    {
     "data": {
      "text/plain": [
       "30"
      ]
     },
     "execution_count": 22,
     "metadata": {},
     "output_type": "execute_result"
    }
   ],
   "source": [
    "len(results)"
   ]
  },
  {
   "cell_type": "code",
   "execution_count": 23,
   "metadata": {
    "collapsed": false
   },
   "outputs": [
    {
     "data": {
      "image/png": "[encoded data removed]",
      "text/plain": [
       "<matplotlib.figure.Figure at 0x10d4c15c0>"
      ]
     },
     "metadata": {},
     "output_type": "display_data"
    }
   ],
   "source": [
    "def render(i):\n",
    "    plt.semilogy(frequencies, results[i], 'o-')\n",
    "\n",
    "steps_to_show = [0, 10, 20, 29]\n",
    "fig, axes = plt.subplots(ncols=len(steps_to_show), sharey=True, figsize=(15,5))\n",
    "for i, ax in zip(steps_to_show, axes):\n",
    "    plt.sca(ax)\n",
    "    render(i)"
   ]
  },
  {
   "cell_type": "code",
   "execution_count": 24,
   "metadata": {
    "collapsed": false
   },
   "outputs": [
    {
     "data": {
      "image/png": "[encoded data removed]",
      "text/plain": [
       "<matplotlib.figure.Figure at 0x10d5846a0>"
      ]
     },
     "metadata": {},
     "output_type": "display_data"
    }
   ],
   "source": [
    "# animation is pretty iffy\n",
    "a = anim.FuncAnimation(fig, render, frames=len(results))"
   ]
  },
  {
   "cell_type": "markdown",
   "metadata": {},
   "source": [
    "This does the same thing for the second plot from the blog post. The difference here is the emission probabilities $P_{ji}$, which are set to\n",
    "$$P_{ji} = w_j$$"
   ]
  },
  {
   "cell_type": "code",
   "execution_count": 25,
   "metadata": {
    "collapsed": true
   },
   "outputs": [],
   "source": [
    "absorb_weights = np.diag([\n",
    " # probability of absorbing a photon in state 0\n",
    " weights[0],\n",
    " # probability of absorbing a photon in state 1\n",
    " weights[1],\n",
    " # probability of absorbing a photon in state 2\n",
    " weights[2]\n",
    "])\n",
    "emit_weights = np.array([\n",
    " # probabilities of emitting a photon from state 0 back to...\n",
    " weights[[\n",
    "  0, # state 0 (P_00)\n",
    "  1, # state 1 (P_10)\n",
    "  2  # state 2 (P_20)\n",
    " ]],\n",
    " # probabilities of emitting a photon from state 1 back to...\n",
    " weights[[\n",
    "  0, # state 0 (P_01)\n",
    "  1, # state 1 (P_11)\n",
    "  2  # state 2 (P_21)\n",
    " ]],\n",
    " # probabilities of emitting a photon from state 2 back to...\n",
    " weights[[\n",
    "  0, # state 0 (P_02)\n",
    "  1, # state 1 (P_12)\n",
    "  2  # state 2 (P_22)\n",
    " ]]\n",
    "]).T"
   ]
  },
  {
   "cell_type": "code",
   "execution_count": 26,
   "metadata": {
    "collapsed": false
   },
   "outputs": [],
   "source": [
    "counts = [int(pow(10,n/3.)) for n in range(30)]\n",
    "results = np.array([compute_with_transition_matrix([1,0,0], n, absorb_weights, emit_weights) for n in counts])"
   ]
  },
  {
   "cell_type": "code",
   "execution_count": 27,
   "metadata": {
    "collapsed": false
   },
   "outputs": [
    {
     "data": {
      "text/plain": [
       "[<matplotlib.lines.Line2D at 0x10d433dd8>,\n",
       " <matplotlib.lines.Line2D at 0x10d5e1518>,\n",
       " <matplotlib.lines.Line2D at 0x10d5e16d8>]"
      ]
     },
     "execution_count": 27,
     "metadata": {},
     "output_type": "execute_result"
    },
    {
     "data": {
      "image/png": "[encoded data removed]",
      "text/plain": [
       "<matplotlib.figure.Figure at 0x10d03ac18>"
      ]
     },
     "metadata": {},
     "output_type": "display_data"
    }
   ],
   "source": [
    "plt.loglog(counts, results, 'o-')"
   ]
  },
  {
   "cell_type": "markdown",
   "metadata": {
    "collapsed": true
   },
   "source": [
    "It's noteworthy (I think) that the pattern converges to a stable equilibrium for sufficiently large $N$. Presumably we can expect the same out of a test with more frequencies, and the end state should be the blackbody spectrum.\n",
    "\n",
    "This also raises the possibility of reverse-engineering the transition matrix by assuming that the blackbody spectrum is its eigenstate."
   ]
  },
  {
   "cell_type": "markdown",
   "metadata": {},
   "source": [
    "#Using a Lorentzian spectrum "
   ]
  },
  {
   "cell_type": "markdown",
   "metadata": {},
   "source": [
    "Now we want to try the same thing using a Lorentzian absorption spectrum.\n",
    "\n",
    "Suppose we have an atom with some number of spectral lines, indexed by $j$, with frequencies $\\omega^{(j)}_\\text{res}$ and widths $\\gamma^{(j)}_\\text{res}$.\n",
    "The cross section for a photon to scatter off this atom is the sum of contributions from each resonant state.\n",
    "Each contribution takes the form of the Lorentz distribution.\n",
    "$$\\begin{align}\n",
    "\\sigma^{(j)}_\\text{abs}(\\omega) &= \\pi r_0 c f^{(j)} \\frac{\\gamma^{(j)}_\\text{res}}{(\\omega^{(j)}_\\text{res} - \\omega)^2 + (\\gamma^{(j)}_\\text{res})^2/4} \\\\\n",
    "\\sigma_\\text{abs}(\\omega) &= \\sum_j \\sigma^{(j)}(\\omega)\n",
    "\\end{align}$$\n",
    "For a thin layer of gas, the cross section relates to the absorption probability as\n",
    "$$P^{(j)}_\\text{abs}(\\omega) = n\\Delta x\\sigma^{(j)}_\\text{abs}(\\omega) + \\mathcal{O}(\\Delta x^2)$$\n",
    "where $n$ is the number of atoms per unit volume and $\\Delta x$ is the thickness of the gas layer.\n",
    "This is derived in e.g. [Wikipedia](http://en.wikipedia.org/wiki/Cross_section_%28physics%29#Quantum_scattering).\n",
    "\n",
    "We also take the emission probability from a given resonant state to be a Lorentzian function of frequency.\n",
    "$$\\mathcal{P}^{(j)}_\\text{emit}(\\omega')\n",
    "= \\frac{1}{A^{(j)}} \\frac{\\gamma^{(j)}_\\text{res}}{(\\omega^{(j)}_\\text{res} - \\omega')^2 + (\\gamma^{(j)}_\\text{res})^2/4}$$\n",
    "where $A^{(j)}$ is a normalization factor computed to satisfy $\\int\\mathcal{P}^{(j)}_\\text{emit}(\\omega')\\mathrm{d}\\omega' = 1$.\n",
    "$$A^{(j)} = \\pi + 2\\tan^{-1}\\frac{2\\omega^{(j)}_\\text{res}}{\\gamma^{(j)}_\\text{res}}$$"
   ]
  },
  {
   "cell_type": "code",
   "execution_count": 28,
   "metadata": {
    "collapsed": true
   },
   "outputs": [],
   "source": [
    "r0=2.8e-15\n",
    "c=299792458\n",
    "f=1\n",
    "prefactor = np.pi*r0*c*f\n",
    "\n",
    "n = 0.1\n",
    "Deltax = 0.01"
   ]
  },
  {
   "cell_type": "code",
   "execution_count": 29,
   "metadata": {
    "collapsed": false
   },
   "outputs": [],
   "source": [
    "resonances = [10]\n",
    "widths = [1]\n",
    "frequencies = np.array([0,1,2,3,4,5,6,7,8,9,\n",
    "                        10,11,12,13,14,15,16,17,18,19,\n",
    "                        20,22,24,26,28,30,32,34,36,38,\n",
    "                        40,43,46,49,52,55,58,\n",
    "                        61,64,68,72,76,\n",
    "                        80,85,90,95,100,105,110,\n",
    "                        np.inf])\n",
    "# uniformly distributed initial state - probability proportional to bin size\n",
    "initial_state = np.convolve(frequencies, [1,-1], 'valid')\n",
    "initial_state[-1] = 0\n",
    "initial_state /= initial_state.sum()"
   ]
  },
  {
   "cell_type": "code",
   "execution_count": 30,
   "metadata": {
    "collapsed": false
   },
   "outputs": [],
   "source": [
    "def lorentzian_absorption_probability(omega, args):\n",
    "    omega_res, gamma_res = args[0]\n",
    "    v = prefactor * gamma_res / ((omega_res - omega)**2 + 0.25 * gamma_res**2)\n",
    "    return v\n",
    "\n",
    "absorb_weights = discretize_absorption(\n",
    "    lorentzian_absorption_probability,\n",
    "    frequencies,\n",
    "    zip(resonances, widths))"
   ]
  },
  {
   "cell_type": "code",
   "execution_count": 31,
   "metadata": {
    "collapsed": false
   },
   "outputs": [],
   "source": [
    "def lorentzian_emission_probability(omega, args):\n",
    "    omega_res, gamma_res = args[0]\n",
    "    return gamma_res / (\n",
    "        ((omega_res - omega)**2 + 0.25 * gamma_res**2) *\n",
    "        (np.pi + 2 * np.arctan(2 * omega_res / gamma_res))\n",
    "        )\n",
    "\n",
    "emit_weights = discretize_emission(\n",
    "    lorentzian_emission_probability,\n",
    "    frequencies,\n",
    "    zip(resonances, widths))"
   ]
  },
  {
   "cell_type": "code",
   "execution_count": 32,
   "metadata": {
    "collapsed": false
   },
   "outputs": [
    {
     "data": {
      "text/plain": [
       "True"
      ]
     },
     "execution_count": 32,
     "metadata": {},
     "output_type": "execute_result"
    }
   ],
   "source": [
    "check_conservation_condition(emit_weights)"
   ]
  },
  {
   "cell_type": "markdown",
   "metadata": {},
   "source": [
    "Actually compute the results"
   ]
  },
  {
   "cell_type": "code",
   "execution_count": 33,
   "metadata": {
    "collapsed": false
   },
   "outputs": [],
   "source": [
    "counts = [int(pow(10,n/3.)) for n in range(35)]\n",
    "results = np.array([compute_with_transition_matrix(initial_state, n, absorb_weights, emit_weights) for n in counts])"
   ]
  },
  {
   "cell_type": "markdown",
   "metadata": {},
   "source": [
    "and make a plot"
   ]
  },
  {
   "cell_type": "code",
   "execution_count": 34,
   "metadata": {
    "collapsed": false
   },
   "outputs": [
    {
     "data": {
      "image/png": "[encoded data removed]",
      "text/plain": [
       "<matplotlib.figure.Figure at 0x10d1dc8d0>"
      ]
     },
     "metadata": {},
     "output_type": "display_data"
    }
   ],
   "source": [
    "with sns.color_palette(\"PuBuGn_d\", n_colors=results.shape[1]):\n",
    "    plt.loglog(counts, results, 'o-')\n",
    "    plt.ylim((1e-3,1))"
   ]
  },
  {
   "cell_type": "markdown",
   "metadata": {},
   "source": [
    "Note the one curve that shoots up past the others around $10^8$.\n",
    "That is the effect of the highest frequency interval, $(\\omega_M, \\infty)$, accumulating probability because high-frequency photons with $\\omega > \\omega_M$ are not absorbed.\n",
    "\n",
    "Now let's try the procedure where we map all high-frequency photons $\\omega > \\omega_M$ to the highest frequency interval with $\\omega < \\omega_M$."
   ]
  },
  {
   "cell_type": "code",
   "execution_count": 35,
   "metadata": {
    "collapsed": false
   },
   "outputs": [
    {
     "data": {
      "text/plain": [
       "True"
      ]
     },
     "execution_count": 35,
     "metadata": {},
     "output_type": "execute_result"
    }
   ],
   "source": [
    "absorb_weights = discretize_absorption(\n",
    "    lorentzian_absorption_probability,\n",
    "    frequencies[:-1],\n",
    "    zip(resonances, widths))\n",
    "emit_weights = discretize_emission(\n",
    "    lorentzian_emission_probability,\n",
    "    frequencies[:-1],\n",
    "    zip(resonances, widths))\n",
    "emit_weights[-1] += 1 - emit_weights.sum(axis=0)\n",
    "check_conservation_condition(emit_weights)"
   ]
  },
  {
   "cell_type": "code",
   "execution_count": 36,
   "metadata": {
    "collapsed": false
   },
   "outputs": [],
   "source": [
    "counts = [int(pow(10,n/3.)) for n in range(35)]\n",
    "results = np.array([compute_with_transition_matrix(initial_state[:-1], n, absorb_weights, emit_weights) for n in counts])"
   ]
  },
  {
   "cell_type": "code",
   "execution_count": 37,
   "metadata": {
    "collapsed": false
   },
   "outputs": [
    {
     "data": {
      "image/png": "[encoded data removed]",
      "text/plain": [
       "<matplotlib.figure.Figure at 0x10da14080>"
      ]
     },
     "metadata": {},
     "output_type": "display_data"
    }
   ],
   "source": [
    "with sns.color_palette(\"PuBuGn_d\", n_colors=results.shape[1]):\n",
    "    plt.loglog(counts, results, 'o-')\n",
    "    plt.ylim((1e-3,1))"
   ]
  },
  {
   "cell_type": "markdown",
   "metadata": {},
   "source": [
    "The highest frequency bin still accumulates all the probability in the long term.\n",
    "\n",
    "Let's try equal redistribution now:"
   ]
  },
  {
   "cell_type": "code",
   "execution_count": 38,
   "metadata": {
    "collapsed": false
   },
   "outputs": [
    {
     "data": {
      "text/plain": [
       "True"
      ]
     },
     "execution_count": 38,
     "metadata": {},
     "output_type": "execute_result"
    }
   ],
   "source": [
    "absorb_weights = discretize_absorption(\n",
    "    lorentzian_absorption_probability,\n",
    "    frequencies[:-1],\n",
    "    zip(resonances, widths))\n",
    "emit_weights = discretize_emission(\n",
    "    lorentzian_emission_probability,\n",
    "    frequencies[:-1],\n",
    "    zip(resonances, widths))\n",
    "emit_weights /= emit_weights.sum(axis=0)\n",
    "check_conservation_condition(emit_weights)"
   ]
  },
  {
   "cell_type": "code",
   "execution_count": 39,
   "metadata": {
    "collapsed": true
   },
   "outputs": [],
   "source": [
    "counts = [int(pow(10,n/3.)) for n in range(35)]\n",
    "results = np.array([compute_with_transition_matrix(initial_state[:-1], n, absorb_weights, emit_weights) for n in counts])"
   ]
  },
  {
   "cell_type": "code",
   "execution_count": 40,
   "metadata": {
    "collapsed": false
   },
   "outputs": [
    {
     "data": {
      "image/png": "[encoded data removed]",
      "text/plain": [
       "<matplotlib.figure.Figure at 0x10d2fa470>"
      ]
     },
     "metadata": {},
     "output_type": "display_data"
    }
   ],
   "source": [
    "with sns.color_palette(\"PuBuGn_d\", n_colors=results.shape[1]):\n",
    "    plt.loglog(counts, results, 'o-')\n",
    "    plt.ylim((1e-3,1))"
   ]
  },
  {
   "cell_type": "code",
   "execution_count": 41,
   "metadata": {
    "collapsed": false
   },
   "outputs": [
    {
     "data": {
      "image/png": "[encoded data removed]",
      "text/plain": [
       "<matplotlib.figure.Figure at 0x10dd5e4a8>"
      ]
     },
     "metadata": {},
     "output_type": "display_data"
    }
   ],
   "source": [
    "mean_frequencies = np.convolve(frequencies[:-1], [0.5,0.5], 'valid')\n",
    "frequency_bin_widths = np.convolve(frequencies[:-1], [1,-1], 'valid')\n",
    "def render(i):\n",
    "    plt.semilogy(mean_frequencies, results[i] / frequency_bin_widths, 'o-')\n",
    "    plt.ylim((1e-3,1e-1))\n",
    "\n",
    "steps_to_show = [10, 15, 20, 25, 30]\n",
    "fig, axes = plt.subplots(ncols=len(steps_to_show), sharey=True, figsize=(15,5))\n",
    "for i, ax in zip(steps_to_show, axes):\n",
    "    plt.sca(ax)\n",
    "    render(i)"
   ]
  },
  {
   "cell_type": "markdown",
   "metadata": {},
   "source": [
    "Evidently the transition matrix doesn't have any effect on a uniform distribution.\n",
    "\n",
    "The frequency distributions that are unchanged by the transition matrix correspond to its eigenvectors. So it's worth taking a look at the eigenvectors and eigenvalues."
   ]
  },
  {
   "cell_type": "code",
   "execution_count": 42,
   "metadata": {
    "collapsed": true
   },
   "outputs": [],
   "source": [
    "T = transition_matrix(absorb_weights, emit_weights)"
   ]
  },
  {
   "cell_type": "code",
   "execution_count": 43,
   "metadata": {
    "collapsed": false
   },
   "outputs": [],
   "source": [
    "eigvals, eigvecs = np.linalg.eig(T)"
   ]
  },
  {
   "cell_type": "code",
   "execution_count": 44,
   "metadata": {
    "collapsed": false
   },
   "outputs": [
    {
     "data": {
      "text/plain": [
       "array([ 0.99999775,  0.99999416,  0.99999936,  0.99999885,  0.99999971,\n",
       "        0.99999958,  0.99999984,  0.99999978,  0.9999999 ,  0.99999987,\n",
       "        0.99999993,  0.99999991,  0.99999995,  0.99999994,  0.99999996,\n",
       "        0.99999995,  0.99999997,  0.99999997,  0.99999998,  0.99999996,\n",
       "        0.99999998,  0.99999999,  0.99999999,  0.99999999,  0.99999999,\n",
       "        0.99999999,  1.        ,  1.        ,  1.        ,  1.        ,\n",
       "        1.        ,  1.        ,  1.        ,  1.        ,  1.        ,\n",
       "        1.        ,  1.        ,  1.        ,  1.        ,  1.        ,\n",
       "        1.        ,  1.        ,  1.        ,  1.        ,  1.        ,\n",
       "        1.        ,  1.        ,  1.        ])"
      ]
     },
     "execution_count": 44,
     "metadata": {},
     "output_type": "execute_result"
    }
   ],
   "source": [
    "eigvals"
   ]
  },
  {
   "cell_type": "markdown",
   "metadata": {},
   "source": [
    "Interestingly enough, all the eigenvalues are very close to $1$, and more to the point, pretty close to each other.\n",
    "So the Lorentzian transition matrix with a single resonance is going to have very little effect on _any_ frequency distribution.\n",
    "\n",
    "A look at the eigenvectors shows nothing particularly special:"
   ]
  },
  {
   "cell_type": "code",
   "execution_count": 45,
   "metadata": {
    "collapsed": false
   },
   "outputs": [
    {
     "data": {
      "image/png": "[encoded data removed]",
      "text/plain": [
       "<matplotlib.figure.Figure at 0x10962db38>"
      ]
     },
     "metadata": {},
     "output_type": "display_data"
    }
   ],
   "source": [
    "fig, axes = plt.subplots(ncols=5, nrows=6, sharey=True, sharex=True, figsize=(15,16))\n",
    "for ax, v in zip(axes.flat, eigvecs):\n",
    "    plt.sca(ax)\n",
    "    plt.plot(mean_frequencies, v, '.-')"
   ]
  },
  {
   "cell_type": "markdown",
   "metadata": {},
   "source": [
    "but on the other hand, we can see that a uniform spectrum $f(\\omega)$ pretty much satisfies $T(\\omega, \\omega')f(\\omega) = f(\\omega')$."
   ]
  },
  {
   "cell_type": "code",
   "execution_count": 46,
   "metadata": {
    "collapsed": false
   },
   "outputs": [
    {
     "data": {
      "text/plain": [
       "True"
      ]
     },
     "execution_count": 46,
     "metadata": {},
     "output_type": "execute_result"
    }
   ],
   "source": [
    "np.isclose(T.dot(results[0]), results[0]).all()"
   ]
  },
  {
   "cell_type": "markdown",
   "metadata": {},
   "source": [
    "And even after $10^8$ scatterings, the transition matrix still leaves the spectrum unchanged."
   ]
  },
  {
   "cell_type": "code",
   "execution_count": 47,
   "metadata": {
    "collapsed": false
   },
   "outputs": [
    {
     "data": {
      "text/plain": [
       "True"
      ]
     },
     "execution_count": 47,
     "metadata": {},
     "output_type": "execute_result"
    }
   ],
   "source": [
    "np.isclose(npla.matrix_power(T, 100000000).dot(results[0]), results[0]).all()"
   ]
  },
  {
   "cell_type": "markdown",
   "metadata": {},
   "source": [
    "We can try adding some additional resonances to see if it changes anything"
   ]
  },
  {
   "cell_type": "code",
   "execution_count": 48,
   "metadata": {
    "collapsed": false
   },
   "outputs": [
    {
     "data": {
      "text/plain": [
       "True"
      ]
     },
     "execution_count": 48,
     "metadata": {},
     "output_type": "execute_result"
    }
   ],
   "source": [
    "resonances = [10, 11, 15, 17, 19, 22, 25]\n",
    "widths = [1, 1, 1, 1, 1, 1, 1]\n",
    "\n",
    "absorb_weights = discretize_absorption(\n",
    "    lorentzian_absorption_probability,\n",
    "    frequencies[:-1],\n",
    "    zip(resonances, widths))\n",
    "emit_weights = discretize_emission(\n",
    "    lorentzian_emission_probability,\n",
    "    frequencies[:-1],\n",
    "    zip(resonances, widths))\n",
    "emit_weights /= emit_weights.sum(axis=0)\n",
    "check_conservation_condition(emit_weights)"
   ]
  },
  {
   "cell_type": "code",
   "execution_count": 49,
   "metadata": {
    "collapsed": true
   },
   "outputs": [],
   "source": [
    "counts = [int(pow(10,n/3.)) for n in range(35)]\n",
    "results = np.array([compute_with_transition_matrix(initial_state[:-1], n, absorb_weights, emit_weights) for n in counts])"
   ]
  },
  {
   "cell_type": "code",
   "execution_count": 50,
   "metadata": {
    "collapsed": false
   },
   "outputs": [
    {
     "data": {
      "image/png": "[encoded data removed]",
      "text/plain": [
       "<matplotlib.figure.Figure at 0x108c8a7b8>"
      ]
     },
     "metadata": {},
     "output_type": "display_data"
    }
   ],
   "source": [
    "with sns.color_palette(\"PuBuGn_d\", n_colors=results.shape[1]):\n",
    "    plt.loglog(counts, results, 'o-')\n",
    "    plt.ylim((1e-3,1))"
   ]
  },
  {
   "cell_type": "markdown",
   "metadata": {},
   "source": [
    "Nope..."
   ]
  },
  {
   "cell_type": "code",
   "execution_count": 51,
   "metadata": {
    "collapsed": false
   },
   "outputs": [
    {
     "data": {
      "text/plain": [
       "array([ 0.99999002,  0.99999231,  0.9999927 ,  0.9999928 ,  0.99999405,\n",
       "        0.99999523,  0.99999544,  0.99999658,  0.99999698,  0.99999728,\n",
       "        0.99999774,  0.99999798,  0.9999984 ,  0.99999885,  0.99999916,\n",
       "        0.9999994 ,  0.99999955,  0.99999966,  0.99999972,  0.99999977,\n",
       "        0.99999982,  0.99999984,  0.99999986,  0.99999988,  0.99999989,\n",
       "        0.99999991,  0.99999992,  0.99999994,  0.99999995,  0.99999996,\n",
       "        0.99999997,  0.99999998,  0.99999998,  0.99999998,  0.99999999,\n",
       "        0.99999999,  1.        ,  0.99999999,  0.99999999,  0.99999999,\n",
       "        0.99999999,  0.99999999,  1.        ,  1.        ,  1.        ,\n",
       "        1.        ,  1.        ,  1.        ])"
      ]
     },
     "execution_count": 51,
     "metadata": {},
     "output_type": "execute_result"
    }
   ],
   "source": [
    "T = transition_matrix(absorb_weights, emit_weights)\n",
    "eigvals, eigvecs = np.linalg.eig(T)\n",
    "eigvals"
   ]
  },
  {
   "cell_type": "markdown",
   "metadata": {},
   "source": [
    "We still have eigenvalues all nearly the same."
   ]
  },
  {
   "cell_type": "code",
   "execution_count": null,
   "metadata": {
    "collapsed": true
   },
   "outputs": [],
   "source": []
  }
 ],
 "metadata": {
  "kernelspec": {
   "display_name": "Python 3",
   "language": "python",
   "name": "python3"
  },
  "language_info": {
   "codemirror_mode": {
    "name": "ipython",
    "version": 3
   },
   "file_extension": ".py",
   "mimetype": "text/x-python",
   "name": "python",
   "nbconvert_exporter": "python",
   "pygments_lexer": "ipython3",
   "version": "3.4.3"
  }
 },
 "nbformat": 4,
 "nbformat_minor": 0
}
